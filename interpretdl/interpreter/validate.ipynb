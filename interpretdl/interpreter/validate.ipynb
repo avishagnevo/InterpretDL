{
 "cells": [
  {
   "cell_type": "code",
   "execution_count": null,
   "metadata": {},
   "outputs": [],
   "source": [
    "import numpy as np\n",
    "\n",
    "from tqdm import tqdm\n",
    "from torchvision.models import resnet\n",
    "\n",
    "from .functional_information import FunctionalInformationInterpreter\n",
    "\n",
    "import torch\n",
    "import torch.nn as nn\n",
    "import torch.optim as optim\n",
    "import torch.nn.functional as F\n"
   ]
  },
  {
   "cell_type": "code",
   "execution_count": null,
   "metadata": {},
   "outputs": [],
   "source": [
    "\n",
    "# Define the Neural Network\n",
    "class Net(nn.Module):\n",
    "    def __init__(self):\n",
    "        super(Net, self).__init__()\n",
    "        self.conv1 = nn.Conv2d(3, 6, 5)  # Input: (3, 32, 32) -> Output: (6, 28, 28)\n",
    "        self.pool1 = nn.MaxPool2d(2, 2)  # Output: (6, 14, 14)\n",
    "        self.conv2 = nn.Conv2d(6, 16, 5)  # Output: (16, 10, 10)\n",
    "        self.pool2 = nn.MaxPool2d(2, 2)  # Output: (16, 5, 5)\n",
    "        self.fc1 = nn.Linear(16 * 5 * 5, 120)  # Fully connected layer\n",
    "        self.fc2 = nn.Linear(120, 84)\n",
    "        self.fc3 = nn.Linear(84, 10)\n",
    "        self.relu1 = nn.ReLU()\n",
    "        self.relu2 = nn.ReLU()\n",
    "        self.relu3 = nn.ReLU()\n",
    "        self.relu4 = nn.ReLU()\n",
    "\n",
    "    def forward(self, x):\n",
    "        x = self.pool1(self.relu1(self.conv1(x)))\n",
    "        x = self.pool2(self.relu2(self.conv2(x)))\n",
    "        x = x.view(-1, 16 * 5 * 5)  # Flatten before feeding into FC layers\n",
    "        x = self.relu3(self.fc1(x))\n",
    "        x = self.relu4(self.fc2(x))\n",
    "        x = self.fc3(x)\n",
    "        return x\n"
   ]
  },
  {
   "cell_type": "code",
   "execution_count": null,
   "metadata": {},
   "outputs": [],
   "source": [
    "def main():\n",
    "    # Simulated dataset with random pixel values and labels\n",
    "    np.random.seed(42)\n",
    "    num_samples = 10\n",
    "    num_classes = 3\n",
    "    height, width = 32, 32\n",
    "    num_pixels = height * width\n",
    "\n",
    "    # Simulated image data (after pipeline transformation) (batch, channels, height, width)\n",
    "    inputs = np.random.rand(num_samples, 3, height, width).astype(np.float32)  # Simulating RGB image batch\n",
    "    labels = np.random.choice(num_classes, num_samples)  # Random labels (0, 1, 2)\n",
    "\n",
    "    net = Net()\n",
    "\n",
    "    interpreter = FunctionalInformationInterpreter(net, device=\"cpu\")\n",
    "    corr_matrices = interpreter.init_corr_mat(inputs, labels, visual=True)\n",
    "\n",
    "    # Validate correctness\n",
    "    for class_label, matrix in corr_matrices.items():\n",
    "        assert matrix.shape == (num_pixels, num_pixels), \"Incorrect shape\"\n",
    "        assert np.allclose(matrix, matrix.T, atol=1e-5), \"Matrix is not symmetric\"\n",
    "        assert np.all(np.linalg.eigvals(matrix) > 0), \"Matrix is not positive-definite\"\n",
    "\n",
    "    print(\"\\nAll tests passed!\")"
   ]
  }
 ],
 "metadata": {
  "language_info": {
   "name": "python"
  }
 },
 "nbformat": 4,
 "nbformat_minor": 2
}
